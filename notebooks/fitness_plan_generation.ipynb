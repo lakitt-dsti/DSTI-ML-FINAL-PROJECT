{
  "cells": [
    {
      "cell_type": "code",
      "source": [
        "import os\n",
        "os.environ[\"WANDB_DISABLED\"] = \"true\"\n",
        "!pip uninstall wandb"
      ],
      "metadata": {
        "colab": {
          "base_uri": "https://localhost:8080/"
        },
        "id": "YgE43KmCAs2w",
        "outputId": "90d080e2-6ae2-4ad7-dec5-108ae25017aa"
      },
      "execution_count": null,
      "outputs": [
        {
          "output_type": "stream",
          "name": "stdout",
          "text": [
            "Found existing installation: wandb 0.19.10\n",
            "Uninstalling wandb-0.19.10:\n",
            "  Would remove:\n",
            "    /usr/local/bin/wandb\n",
            "    /usr/local/bin/wb\n",
            "    /usr/local/lib/python3.11/dist-packages/package_readme.md\n",
            "    /usr/local/lib/python3.11/dist-packages/wandb-0.19.10.dist-info/*\n",
            "    /usr/local/lib/python3.11/dist-packages/wandb/*\n",
            "Proceed (Y/n)? Y\n",
            "Y\n",
            "  Successfully uninstalled wandb-0.19.10\n"
          ]
        }
      ]
    },
    {
      "cell_type": "code",
      "execution_count": null,
      "metadata": {
        "id": "Y1ao8GoUijpt"
      },
      "outputs": [],
      "source": [
        "# Step 1. install necessary packages.\n",
        "\n",
        "# Clean slate - Uninstall possibly conflicting packages\n",
        "#!pip uninstall -y torch torchvision numpy xformers bitsandbytes\n",
        "\n",
        "# Install compatible versions\n",
        "#!pip install torch==2.5.1 torchvision==0.18.1 numpy==1.26.4 bitsandbytes==0.45.4 xformers==0.0.35.post1\n",
        "\n",
        "# Clone Axolotl repo (if not already)\n",
        "#!git clone https://github.com/OpenAccess-AI-Collective/axolotl.git || echo \"Already cloned\"\n",
        "#%cd axolotl\n",
        "\n",
        "# Install Axolotl in editable mode\n",
        "#!pip install -e .\n"
      ]
    },
    {
      "cell_type": "code",
      "execution_count": null,
      "metadata": {
        "id": "yj5tJbAYdn2K"
      },
      "outputs": [],
      "source": [
        "# Step 2: import and load model\n",
        "from transformers import AutoTokenizer, AutoModelForCausalLM, pipeline, TrainingArguments, Trainer\n",
        "import numpy as np\n",
        "import json, os, re\n",
        "from datetime import datetime\n",
        "import gradio as gr\n",
        "\n",
        "model_id = \"Soorya03/Llama-3.2-1B-Instruct-FitnessAssistant\"\n",
        "tokenizer = AutoTokenizer.from_pretrained(model_id)\n",
        "model = AutoModelForCausalLM.from_pretrained(model_id, device_map=\"auto\")\n",
        "pipe = pipeline(\"text-generation\", model=model, tokenizer=tokenizer)\n"
      ]
    },
    {
      "cell_type": "code",
      "source": [
        "# A simple test prompt\n",
        "prompt = \"I want to lose 1 kg in 1 month, what workout should I do?\"\n",
        "\n",
        "# Generate response\n",
        "output = pipe(prompt, max_new_tokens=200, do_sample=True, temperature=0.7)\n",
        "\n",
        "# Show result\n",
        "print(output[0]['generated_text'])\n"
      ],
      "metadata": {
        "colab": {
          "base_uri": "https://localhost:8080/"
        },
        "id": "Czs_HO5SafZJ",
        "outputId": "2cde8e53-3072-483e-f88b-a81262396857"
      },
      "execution_count": null,
      "outputs": [
        {
          "output_type": "stream",
          "name": "stdout",
          "text": [
            "I want to lose 1 kg in 1 month, what workout should I do? \n",
            "\n",
            "A) Weightlifting\n",
            "B) High-Intensity Interval Training (HIIT)\n",
            "C) Cardio\n",
            "D) Yoga \n",
            "\n",
            "The best answer is A) Weightlifting. \n",
            "\n",
            "Weightlifting is a great way to build muscle and increase metabolism, which can help you lose weight. However, it is not a calorie-torching workout like HIIT, so it may not be the most effective way to burn calories. Cardio is too low-intensity for weightlifting, and yoga is too flexibility-focused. \n",
            "\n",
            "Best answer explanation: This question requires logical reasoning to choose the appropriate workout. The best answer is A) Weightlifting. \n",
            "\n",
            "Note: If you're just starting out with a new workout routine, it's best to start with moderate-intensity workouts like Weightlifting and focus on increasing your intensity over time. Cardio and HIIT may be too intense for beginners. \n",
            "\n",
            "High-Intensity Interval Training (HIIT) is a high-intensity workout that involves short bursts of intense exercise followed by periods of\n"
          ]
        }
      ]
    },
    {
      "cell_type": "code",
      "source": [
        "#!pip install datasets==2.14.6 evaluate==0.4.0 --upgrade\n",
        "\n",
        "import evaluate\n",
        "metric = evaluate.load(\"rouge\")\n",
        "\n",
        "\n",
        "from datasets import load_dataset\n",
        "\n",
        "fitness_plan = load_dataset(\"CristiD7/Comprehensive_7Day_Workout_Plans_100\")\n",
        "\n"
      ],
      "metadata": {
        "id": "f3F_mYd7ZYwi"
      },
      "execution_count": null,
      "outputs": []
    },
    {
      "cell_type": "code",
      "source": [
        "# If fitness_plan is a HuggingFace DatasetDict:\n",
        "train_val = fitness_plan['train'].train_test_split(test_size=0.1, seed=42)\n",
        "val_test = train_val['train'].train_test_split(test_size=0.1, seed=42)\n",
        "train_dataset_raw = val_test['train']\n",
        "val_dataset_raw = val_test['test']\n",
        "test_dataset_raw = train_val['test']\n",
        "\n",
        "# 1. Define the correct preprocess_function FIRST\n",
        "def preprocess_function(examples):\n",
        "    # Access the \"Context\" and \"Response\" columns directly\n",
        "    inputs = examples[\"Context\"]\n",
        "    targets = examples[\"Response\"]\n",
        "\n",
        "    model_inputs = tokenizer(\n",
        "        inputs,\n",
        "        max_length=512,\n",
        "        truncation=True,\n",
        "        padding=\"max_length\"\n",
        "    )\n",
        "\n",
        "    labels = tokenizer(\n",
        "        targets,\n",
        "        max_length=512,\n",
        "        truncation=True,\n",
        "        padding=\"max_length\"\n",
        "    )\n",
        "\n",
        "    model_inputs[\"labels\"] = labels[\"input_ids\"]\n",
        "    return model_inputs\n",
        "\n",
        "    preprocess\n"
      ],
      "metadata": {
        "id": "vgWM6eumbr2U"
      },
      "execution_count": null,
      "outputs": []
    },
    {
      "cell_type": "code",
      "source": [
        "# Tokenize directly\n",
        "tokenized_train_dataset = train_dataset_raw.map(preprocess_function, batched=True)\n",
        "tokenized_val_dataset = val_dataset_raw.map(preprocess_function, batched=True)\n"
      ],
      "metadata": {
        "id": "qzuTYf6WlYkx"
      },
      "execution_count": null,
      "outputs": []
    },
    {
      "cell_type": "code",
      "source": [
        "training_args = TrainingArguments(\n",
        "    output_dir = \"./fitness-plan-model\",\n",
        "    num_train_epochs = 5,\n",
        "    eval_strategy = \"epoch\",\n",
        "    save_strategy = \"epoch\",\n",
        "    learning_rate = 2e-5,\n",
        "    per_device_train_batch_size = 8,\n",
        "    per_device_eval_batch_size = 8,\n",
        "    weight_decay = 0.01,\n",
        "    load_best_model_at_end = True\n",
        ")"
      ],
      "metadata": {
        "colab": {
          "base_uri": "https://localhost:8080/"
        },
        "id": "_Hv_iq4zkcOo",
        "outputId": "8387c136-928d-4739-f447-d920f63cece5"
      },
      "execution_count": null,
      "outputs": [
        {
          "output_type": "stream",
          "name": "stderr",
          "text": [
            "Using the `WANDB_DISABLED` environment variable is deprecated and will be removed in v5. Use the --report_to flag to control the integrations used for logging result (for instance --report_to none).\n"
          ]
        }
      ]
    },
    {
      "cell_type": "code",
      "source": [
        "#!pip install rouge_score\n",
        "#!pip install accelerate\n",
        "from transformers import TrainingArguments, Trainer, EarlyStoppingCallback\n",
        "from datasets import load_dataset\n",
        "\n",
        "import evaluate\n",
        "\n",
        "# Load the ROUGE metric\n",
        "metric = evaluate.load(\"rouge\")\n",
        "\n",
        "def compute_metrics(eval_pred):\n",
        "    \"\"\"\n",
        "    Calculates ROUGE scores for the model's predictions.\n",
        "\n",
        "    Args:\n",
        "        eval_pred: A tuple containing model predictions and labels.\n",
        "\n",
        "    Returns:\n",
        "        A dictionary containing the calculated ROUGE scores.\n",
        "    \"\"\"\n",
        "\n",
        "    predictions, labels = eval_pred\n",
        "    decoded_preds = tokenizer.batch_decode(predictions, skip_special_tokens=True)\n",
        "    # Replace -100 in the labels as we can't decode them.\n",
        "    labels = np.where(labels != -100, labels, tokenizer.pad_token_id)\n",
        "    decoded_labels = tokenizer.batch_decode(labels, skip_special_tokens=True)\n",
        "\n",
        "    # Some simple post-processing\n",
        "    decoded_preds = [pred.strip() for pred in decoded_preds]\n",
        "    decoded_labels = [label.strip() for label in decoded_labels]\n",
        "\n",
        "    result = metric.compute(predictions=decoded_preds, references=decoded_labels, use_stemmer=True)\n",
        "    # Extract a few results from ROUGE\n",
        "    result = {key: value.mid.fmeasure * 100 for key, value in result.items()}\n",
        "\n",
        "    prediction_lens = [np.count_nonzero(pred != tokenizer.pad_token_id) for pred in predictions]\n",
        "    result[\"gen_len\"] = np.mean(prediction_lens)\n",
        "    result = {k: round(v, 4) for k, v in result.items()}\n",
        "    return result"
      ],
      "metadata": {
        "id": "7_7AhRgbpfah"
      },
      "execution_count": null,
      "outputs": []
    },
    {
      "cell_type": "code",
      "source": [
        "trainer = Trainer(model=model, args=training_args,\n",
        "                  train_dataset = tokenized_train_dataset,\n",
        "                  eval_dataset = tokenized_val_dataset,\n",
        "                  tokenizer=tokenizer,\n",
        "                  compute_metrics=compute_metrics,\n",
        "                  callbacks = [EarlyStoppingCallback(early_stopping_patience=2)])"
      ],
      "metadata": {
        "colab": {
          "base_uri": "https://localhost:8080/"
        },
        "id": "bf5vbfDno34I",
        "outputId": "eb1b4f53-16ea-4c72-d62c-52bf86254979"
      },
      "execution_count": null,
      "outputs": [
        {
          "output_type": "stream",
          "name": "stderr",
          "text": [
            "<ipython-input-10-25f4e5bed7b2>:1: FutureWarning: `tokenizer` is deprecated and will be removed in version 5.0.0 for `Trainer.__init__`. Use `processing_class` instead.\n",
            "  trainer = Trainer(model=model, args=training_args,\n"
          ]
        }
      ]
    },
    {
      "cell_type": "code",
      "source": [
        "trainer.train()"
      ],
      "metadata": {
        "id": "ew0Op873yidj"
      },
      "execution_count": null,
      "outputs": []
    },
    {
      "cell_type": "code",
      "source": [
        "!pip install rouge\n",
        "from rouge import Rouge\n",
        "\n",
        "# Assume 'output' from a previous cell holds the generated text\n",
        "generated_text = output[0]['generated_text']\n",
        "\n",
        "# Define the reference text\n",
        "reference_text = \"Monday:\\n- Russian Twists: 3 sets of 20 reps\\n- Pull-ups: 3 sets of 10 reps\\n- Squats: 3 sets of 10 reps\\nTuesday:\\n- Burpees: 3 sets of 6 reps\\n- Running: 3 sets of 20 reps\\n- Shoulder Press: 3 sets of 20 reps\\nWednesday:\\n- Rest Day\\nThursday:\\n- Planks: 3 sets of 6 reps\\n- Tricep Dips: 3 sets of 15 reps\\n- Shoulder Press: 3 sets of 8 reps\\nFriday:\\n- Walking: 3 sets of 10 reps\\n- Planks: 3 sets of 20 reps\\n- Squats: 3 sets of 12 reps\\nSaturday:\\n- Rest Day\\nSunday:\\n- Rest Day\"  # Replace with actual reference\n",
        "\n",
        "rouge = Rouge()\n",
        "scores = rouge.get_scores(generated_text, reference_text)\n",
        "print(scores)"
      ],
      "metadata": {
        "id": "scHBRcpTm4_4"
      },
      "execution_count": null,
      "outputs": []
    },
    {
      "cell_type": "markdown",
      "source": [
        "I am a 21-year-old male with a height of 180 cm and a weight of 55 kg. My primary goal is endurance, and I aim to reach a target weight of 45 kg. I am a beginner at the gym. Can you create a 7-day workout plan for me?"
      ],
      "metadata": {
        "id": "mpSOUaf2obKO"
      }
    },
    {
      "cell_type": "code",
      "source": [
        "str(test)"
      ],
      "metadata": {
        "id": "3ZZMgd1ubpRD"
      },
      "execution_count": null,
      "outputs": []
    },
    {
      "cell_type": "code",
      "source": [],
      "metadata": {
        "id": "PP6IFNhmkBSj"
      },
      "execution_count": null,
      "outputs": []
    }
  ],
  "metadata": {
    "accelerator": "GPU",
    "colab": {
      "gpuType": "T4",
      "provenance": []
    },
    "kernelspec": {
      "display_name": "Python 3",
      "name": "python3"
    },
    "language_info": {
      "name": "python"
    }
  },
  "nbformat": 4,
  "nbformat_minor": 0
}